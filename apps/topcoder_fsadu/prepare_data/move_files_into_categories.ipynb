{
 "cells": [
  {
   "cell_type": "code",
   "execution_count": null,
   "metadata": {
    "collapsed": true
   },
   "outputs": [],
   "source": [
    "import os\n",
    "import csv\n",
    "import sys\n",
    "import shutil\n",
    "\n",
    "firstline=True\n",
    "# Path where to build the categories directory tree\n",
    "train_path = './train/'\n",
    "# Path where all the dataset images are located\n",
    "dir_name = './train_all' \n",
    "\n",
    "#Ground truth file\n",
    "csv_file = csv.reader(open('extended_ground_truth.csv', \"r\"), delimiter=\",\")\n",
    "\n",
    "for row in csv_file:\n",
    "\n",
    "    if firstline:\n",
    "        firstline = False\n",
    "        continue\n",
    "    #print (row[0], row[1])\n",
    "    file_location = os.path.join(dir_name, row[0])\n",
    "    move_to = os.path.join(train_path, row[1])\n",
    "    move_to2 = os.path.join(move_to, row[0])\n",
    "    shutil.copy2(file_location, move_to2) \n",
    "    print (\"copying file TRAIN:\", file_location, \"Into:\", move_to2)"
   ]
  }
 ],
 "metadata": {
  "kernelspec": {
   "display_name": "Python 3",
   "language": "python",
   "name": "python3"
  },
  "language_info": {
   "codemirror_mode": {
    "name": "ipython",
    "version": 3
   },
   "file_extension": ".py",
   "mimetype": "text/x-python",
   "name": "python",
   "nbconvert_exporter": "python",
   "pygments_lexer": "ipython3",
   "version": "3.5.3"
  }
 },
 "nbformat": 4,
 "nbformat_minor": 2
}
